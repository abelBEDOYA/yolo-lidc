{
 "cells": [
  {
   "cell_type": "code",
   "execution_count": 50,
   "metadata": {},
   "outputs": [
    {
     "name": "stdout",
     "output_type": "stream",
     "text": [
      "The autoreload extension is already loaded. To reload it, use:\n",
      "  %reload_ext autoreload\n"
     ]
    }
   ],
   "source": [
    "%load_ext autoreload\n",
    "%autoreload 2\n",
    "\n",
    "from processLIDC import Patient\n",
    "import cv2\n",
    "import numpy as np\n",
    "import matplotlib.pyplot as plt\n",
    "import random\n",
    "import os\n",
    "from tqdm import tqdm\n",
    "from yolodataset import create_dataset"
   ]
  },
  {
   "cell_type": "code",
   "execution_count": 51,
   "metadata": {},
   "outputs": [],
   "source": [
    "patient_id = 'LIDC-IDRI-0002'\n",
    "patient = Patient(patient_id)\n",
    "patient.scale()"
   ]
  },
  {
   "cell_type": "code",
   "execution_count": 52,
   "metadata": {},
   "outputs": [
    {
     "name": "stdout",
     "output_type": "stream",
     "text": [
      "Paciente: LIDC-IDRI-0002\n",
      "___________________________________\n",
      "Paciente del nodulo: LIDC-IDRI-0002\n",
      "Primera slice con el nodulo 171\n",
      "num. slices nodulo: 28\n",
      "-----------\n",
      "Paciente del nodulo: LIDC-IDRI-0002\n",
      "Primera slice con el nodulo 176\n",
      "num. slices nodulo: 23\n",
      "-----------\n",
      "___________________________________\n"
     ]
    }
   ],
   "source": [
    "patient.get_all_nodules()"
   ]
  },
  {
   "cell_type": "code",
   "execution_count": 53,
   "metadata": {},
   "outputs": [],
   "source": [
    "# patient.reconstruct_body(nodulos=True)"
   ]
  },
  {
   "cell_type": "code",
   "execution_count": 54,
   "metadata": {},
   "outputs": [
    {
     "name": "stdout",
     "output_type": "stream",
     "text": [
      "obteniendo los datos...\n"
     ]
    }
   ],
   "source": [
    "patient.imshow(slices=(53,54,55), label=True, scaled=True)"
   ]
  },
  {
   "cell_type": "code",
   "execution_count": null,
   "metadata": {},
   "outputs": [],
   "source": []
  },
  {
   "attachments": {},
   "cell_type": "markdown",
   "metadata": {},
   "source": [
    "## Funcion para guardar las imagenes en formato .jpg"
   ]
  },
  {
   "cell_type": "code",
   "execution_count": 55,
   "metadata": {},
   "outputs": [],
   "source": [
    "path2newdataset='/home/faraujo/TFM/dataset_cero_val'\n",
    "# dicom2jpg(patient_id, path2newdataset)\n",
    "\n",
    "\n",
    "path2olddataset = '/home/faraujo/TFM/manifest-1675801116903/LIDC-IDRI'\n",
    "\n",
    "# create_dataset(path2olddataset, path2newdataset, val=0, percent_include=1)\n",
    "\n"
   ]
  },
  {
   "attachments": {},
   "cell_type": "markdown",
   "metadata": {},
   "source": [
    "predecir desde terminal:\n",
    "\n",
    "`yolo segment predict source='/home/faraujo/TFM/dataset_cero_val/train/images/LIDC-IDRI-0129_54.png' model=/home/faraujo/TFM/yolo_trainings/train_100_include02_large/best.pt show=True conf=0.5 save=False`"
   ]
  }
 ],
 "metadata": {
  "kernelspec": {
   "display_name": "base",
   "language": "python",
   "name": "python3"
  },
  "language_info": {
   "codemirror_mode": {
    "name": "ipython",
    "version": 3
   },
   "file_extension": ".py",
   "mimetype": "text/x-python",
   "name": "python",
   "nbconvert_exporter": "python",
   "pygments_lexer": "ipython3",
   "version": "3.9.7"
  },
  "orig_nbformat": 4
 },
 "nbformat": 4,
 "nbformat_minor": 2
}
