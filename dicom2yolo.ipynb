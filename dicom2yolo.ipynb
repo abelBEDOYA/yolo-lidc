{
 "cells": [
  {
   "cell_type": "code",
   "execution_count": 136,
   "metadata": {},
   "outputs": [
    {
     "name": "stdout",
     "output_type": "stream",
     "text": [
      "The autoreload extension is already loaded. To reload it, use:\n",
      "  %reload_ext autoreload\n"
     ]
    }
   ],
   "source": [
    "%load_ext autoreload\n",
    "%autoreload 2\n",
    "\n",
    "from processLIDC import Patient\n",
    "import cv2\n",
    "import numpy as np\n",
    "import matplotlib.pyplot as plt\n",
    "import random\n",
    "import os\n",
    "from tqdm import tqdm"
   ]
  },
  {
   "cell_type": "code",
   "execution_count": 137,
   "metadata": {},
   "outputs": [],
   "source": [
    "patient_id = 'LIDC-IDRI-0002'\n",
    "patient = Patient(patient_id)\n",
    "patient.scale()"
   ]
  },
  {
   "cell_type": "code",
   "execution_count": 138,
   "metadata": {},
   "outputs": [
    {
     "name": "stdout",
     "output_type": "stream",
     "text": [
      "Paciente: LIDC-IDRI-0002\n",
      "___________________________________\n",
      "Paciente del nodulo: LIDC-IDRI-0002\n",
      "Primera slice con el nodulo 171\n",
      "num. slices nodulo: 28\n",
      "-----------\n",
      "Paciente del nodulo: LIDC-IDRI-0002\n",
      "Primera slice con el nodulo 176\n",
      "num. slices nodulo: 23\n",
      "-----------\n",
      "___________________________________\n"
     ]
    }
   ],
   "source": [
    "patient.get_all_nodules()"
   ]
  },
  {
   "cell_type": "code",
   "execution_count": 139,
   "metadata": {},
   "outputs": [],
   "source": [
    "# patient.reconstruct_body(nodulos=True)"
   ]
  },
  {
   "cell_type": "code",
   "execution_count": 140,
   "metadata": {},
   "outputs": [],
   "source": [
    "# patient.imshow(slices=(172,173,174,175,176,177,178,179), label=True, scaled=True)"
   ]
  },
  {
   "cell_type": "code",
   "execution_count": null,
   "metadata": {},
   "outputs": [],
   "source": []
  },
  {
   "attachments": {},
   "cell_type": "markdown",
   "metadata": {},
   "source": [
    "## Funcion para guardar las imagenes en formato .jpg"
   ]
  },
  {
   "cell_type": "code",
   "execution_count": 141,
   "metadata": {},
   "outputs": [],
   "source": [
    "def dicom2jpg(id_patient, path2newdataset = './dataset'):\n",
    "    patient = Patient(id_patient)\n",
    "    patient.scale()\n",
    "    h, w, n_slices = np.shape(patient.imgs_scaled)\n",
    "    for i in range(n_slices):\n",
    "        fullpath = f'{path2newdataset}/images/{id_patient}_{i}.jpg'\n",
    "        imagen_8bits = np.interp(patient.imgs_scaled[:,:,i], (0, 8), (0, 255)).astype(np.uint8)\n",
    "        cv2.imwrite(fullpath, imagen_8bits)\n",
    "\n",
    "\n",
    "def ann2yolo(id_patient, path2newdataset = './dataset'):\n",
    "    patient = Patient(id_patient)\n",
    "    # patient.scale()\n",
    "    h, w, n_slices = np.shape(patient.mask)\n",
    "    # print(n_slices)\n",
    "    no_tumor = 0\n",
    "    tumor =0\n",
    "    for i in range(n_slices):\n",
    "        fullpath = f'{path2newdataset}/labels/{id_patient}_{i}.txt'\n",
    "        mask = np.interp(patient.mask[:,:,i], (0, 1), (0, 255)).astype(np.uint8)\n",
    "        _, threshold = cv2.threshold(mask, 100, 255, cv2.THRESH_BINARY)\n",
    "        contours, _ = cv2.findContours(threshold, cv2.RETR_EXTERNAL, cv2.CHAIN_APPROX_SIMPLE)\n",
    "        if np.shape(contours) ==(0,):\n",
    "            no_tumor+=1\n",
    "        else:\n",
    "            tumor+=1\n",
    "        # Crear un archivo de texto para escribir los contornos\n",
    "        with open(fullpath, \"w\") as file:\n",
    "            for contour in contours:\n",
    "                # Escribir '0' al principio de cada línea\n",
    "                file.write(\"0\")\n",
    "\n",
    "                # Obtener las coordenadas de los puntos del contorno\n",
    "                points = contour.reshape(-1, 2)\n",
    "\n",
    "                # Escribir las coordenadas en el archivo\n",
    "                for point in points:\n",
    "                    x, y = point\n",
    "                    file.write(f\" {x/w} {y/h}\")\n",
    "\n",
    "                # Nueva línea para el siguiente contorno\n",
    "                file.write(\"\\n\")\n",
    "    return tumor, no_tumor\n",
    "\n",
    "\n",
    "def create_dataset(path2olddataset,path2newdataset, val = 0.2):\n",
    "    id_patients = os.listdir(path2olddataset)\n",
    "    archivo = open('./failed_patients.txt', 'r')  # Reemplaza 'nombre_archivo.txt' por el nombre de tu archivo\n",
    "\n",
    "    failed_patients = []\n",
    "\n",
    "    for linea in archivo:\n",
    "        linea = linea.strip()  # Elimina los espacios en blanco al principio y al final de la línea\n",
    "        failed_patients.append(linea)\n",
    "    archivo.close()\n",
    "    id_patients = [id_patient for id_patient in id_patients if id_patient not in failed_patients]\n",
    "    tumor_total, no_tumor_total = 0,0\n",
    "    for id_patient in tqdm(id_patients):\n",
    "        # try:\n",
    "        # print(id_patient)\n",
    "        train_random = random.random() > val\n",
    "        # print(train_random)\n",
    "        if train_random:\n",
    "            dicom2jpg(id_patient, path2newdataset+'/train')\n",
    "            tumor, no_tumor = ann2yolo(id_patient, path2newdataset+'/train')\n",
    "            tumor_total += tumor\n",
    "            no_tumor_total += no_tumor\n",
    "        else:\n",
    "            dicom2jpg(id_patient, path2newdataset+'/validation')\n",
    "            tumor, no_tumor = ann2yolo(id_patient, path2newdataset+'/validation')\n",
    "            tumor_total += tumor\n",
    "            no_tumor_total += no_tumor\n",
    "        print('train:', len(os.listdir(path2newdataset+'/train/images')), len(os.listdir(path2newdataset+'/train/labels')))\n",
    "        print('validation:', len(os.listdir(path2newdataset+'/validation/images')), len(os.listdir(path2newdataset+'/validation/labels')))\n",
    "        # except:\n",
    "#         #     print(id_patient, 'da fallos')\n",
    "#         \n",
    "    return tumor_total, no_tumor_total"
   ]
  },
  {
   "cell_type": "code",
   "execution_count": 142,
   "metadata": {},
   "outputs": [
    {
     "name": "stderr",
     "output_type": "stream",
     "text": [
      "  0%|          | 0/3 [00:00<?, ?it/s]"
     ]
    },
    {
     "name": "stdout",
     "output_type": "stream",
     "text": [
      "LIDC-IDRI-0002\n",
      "True\n"
     ]
    },
    {
     "name": "stderr",
     "output_type": "stream",
     "text": [
      " 33%|███▎      | 1/3 [00:08<00:17,  8.98s/it]"
     ]
    },
    {
     "name": "stdout",
     "output_type": "stream",
     "text": [
      "train: 261 261\n",
      "validation: 0 0\n",
      "LIDC-IDRI-0005\n",
      "True\n"
     ]
    },
    {
     "name": "stderr",
     "output_type": "stream",
     "text": [
      " 67%|██████▋   | 2/3 [00:14<00:06,  6.90s/it]"
     ]
    },
    {
     "name": "stdout",
     "output_type": "stream",
     "text": [
      "train: 394 394\n",
      "validation: 0 0\n",
      "LIDC-IDRI-0013\n",
      "False\n"
     ]
    },
    {
     "name": "stderr",
     "output_type": "stream",
     "text": [
      "100%|██████████| 3/3 [00:20<00:00,  6.84s/it]"
     ]
    },
    {
     "name": "stdout",
     "output_type": "stream",
     "text": [
      "train: 394 394\n",
      "validation: 125 125\n"
     ]
    },
    {
     "name": "stderr",
     "output_type": "stream",
     "text": [
      "\n"
     ]
    },
    {
     "data": {
      "text/plain": [
       "(51, 468)"
      ]
     },
     "execution_count": 142,
     "metadata": {},
     "output_type": "execute_result"
    }
   ],
   "source": [
    "path2newdataset='/home/faraujo/TFM/dataset_vacio (copy)'\n",
    "# dicom2jpg(patient_id, path2newdataset)\n",
    "\n",
    "\n",
    "path2olddataset = '/home/faraujo/TFM/manifest-1675801116903/LIDC-IDRI'\n",
    "\n",
    "create_dataset(path2olddataset, path2newdataset, val=0.3)\n",
    "\n"
   ]
  }
 ],
 "metadata": {
  "kernelspec": {
   "display_name": "base",
   "language": "python",
   "name": "python3"
  },
  "language_info": {
   "codemirror_mode": {
    "name": "ipython",
    "version": 3
   },
   "file_extension": ".py",
   "mimetype": "text/x-python",
   "name": "python",
   "nbconvert_exporter": "python",
   "pygments_lexer": "ipython3",
   "version": "3.9.7"
  },
  "orig_nbformat": 4
 },
 "nbformat": 4,
 "nbformat_minor": 2
}
