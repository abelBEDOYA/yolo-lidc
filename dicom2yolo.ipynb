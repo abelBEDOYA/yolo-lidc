{
 "cells": [
  {
   "cell_type": "code",
   "execution_count": 103,
   "metadata": {},
   "outputs": [
    {
     "name": "stdout",
     "output_type": "stream",
     "text": [
      "The autoreload extension is already loaded. To reload it, use:\n",
      "  %reload_ext autoreload\n"
     ]
    }
   ],
   "source": [
    "%load_ext autoreload\n",
    "%autoreload 2\n",
    "\n",
    "from processLIDC import Patient\n",
    "import cv2\n",
    "import numpy as np\n",
    "import matplotlib.pyplot as plt\n",
    "import random\n",
    "import os\n",
    "from tqdm import tqdm\n",
    "from yolodataset import create_dataset"
   ]
  },
  {
   "cell_type": "code",
   "execution_count": 104,
   "metadata": {},
   "outputs": [],
   "source": [
    "patient_id = 'LIDC-IDRI-0005'\n",
    "patient = Patient(patient_id)\n",
    "patient.scale()"
   ]
  },
  {
   "cell_type": "code",
   "execution_count": 105,
   "metadata": {},
   "outputs": [
    {
     "name": "stdout",
     "output_type": "stream",
     "text": [
      "Paciente: LIDC-IDRI-0005\n",
      "___________________________________\n",
      "Paciente del nodulo: LIDC-IDRI-0005\n",
      "Primera slice con el nodulo 77\n",
      "num. slices nodulo: 2\n",
      "-----------\n",
      "Paciente del nodulo: LIDC-IDRI-0005\n",
      "Primera slice con el nodulo 79\n",
      "num. slices nodulo: 3\n",
      "-----------\n",
      "Paciente del nodulo: LIDC-IDRI-0005\n",
      "Primera slice con el nodulo 87\n",
      "num. slices nodulo: 2\n",
      "-----------\n",
      "Paciente del nodulo: LIDC-IDRI-0005\n",
      "Primera slice con el nodulo 77\n",
      "num. slices nodulo: 2\n",
      "-----------\n",
      "Paciente del nodulo: LIDC-IDRI-0005\n",
      "Primera slice con el nodulo 80\n",
      "num. slices nodulo: 1\n",
      "-----------\n",
      "Paciente del nodulo: LIDC-IDRI-0005\n",
      "Primera slice con el nodulo 80\n",
      "num. slices nodulo: 2\n",
      "-----------\n",
      "Paciente del nodulo: LIDC-IDRI-0005\n",
      "Primera slice con el nodulo 77\n",
      "num. slices nodulo: 2\n",
      "-----------\n",
      "Paciente del nodulo: LIDC-IDRI-0005\n",
      "Primera slice con el nodulo 77\n",
      "num. slices nodulo: 2\n",
      "-----------\n",
      "Paciente del nodulo: LIDC-IDRI-0005\n",
      "Primera slice con el nodulo 79\n",
      "num. slices nodulo: 3\n",
      "-----------\n",
      "___________________________________\n"
     ]
    }
   ],
   "source": [
    "patient.get_all_nodules()"
   ]
  },
  {
   "cell_type": "code",
   "execution_count": 106,
   "metadata": {},
   "outputs": [],
   "source": [
    "# patient.reconstruct_body(nodulos=True)"
   ]
  },
  {
   "cell_type": "code",
   "execution_count": 107,
   "metadata": {},
   "outputs": [],
   "source": [
    "# patient.imshow(slices=(80,81,82,93,94,95), label=True, scaled=True)"
   ]
  },
  {
   "cell_type": "code",
   "execution_count": null,
   "metadata": {},
   "outputs": [],
   "source": []
  },
  {
   "attachments": {},
   "cell_type": "markdown",
   "metadata": {},
   "source": [
    "## Funcion para guardar las imagenes en formato .jpg"
   ]
  },
  {
   "cell_type": "code",
   "execution_count": 109,
   "metadata": {},
   "outputs": [
    {
     "name": "stdout",
     "output_type": "stream",
     "text": [
      "convirtiendo dataset a yolo...\n"
     ]
    },
    {
     "name": "stderr",
     "output_type": "stream",
     "text": [
      "  0%|          | 0/3 [00:00<?, ?it/s]"
     ]
    },
    {
     "name": "stderr",
     "output_type": "stream",
     "text": [
      "100%|██████████| 3/3 [00:18<00:00,  6.24s/it]"
     ]
    },
    {
     "name": "stdout",
     "output_type": "stream",
     "text": [
      "train: \n",
      " \t images: 386 \t labels: 386\n",
      "validation: \n",
      " \t images: 133 \t labels: 133\n",
      "train: \n",
      " \t Con nodulo: 44 \t Sin nodulo: 342\n",
      "validation: \n",
      " \t Con nodulo: 7 \t Sin nodulo: 126\n"
     ]
    },
    {
     "name": "stderr",
     "output_type": "stream",
     "text": [
      "\n"
     ]
    }
   ],
   "source": [
    "path2newdataset='/home/faraujo/TFM/dataset_vacio (copy)'\n",
    "# dicom2jpg(patient_id, path2newdataset)\n",
    "\n",
    "\n",
    "path2olddataset = '/home/faraujo/TFM/manifest-1675801116903/LIDC-IDRI'\n",
    "\n",
    "create_dataset(path2olddataset, path2newdataset, val=0.3)\n",
    "\n"
   ]
  }
 ],
 "metadata": {
  "kernelspec": {
   "display_name": "base",
   "language": "python",
   "name": "python3"
  },
  "language_info": {
   "codemirror_mode": {
    "name": "ipython",
    "version": 3
   },
   "file_extension": ".py",
   "mimetype": "text/x-python",
   "name": "python",
   "nbconvert_exporter": "python",
   "pygments_lexer": "ipython3",
   "version": "3.9.7"
  },
  "orig_nbformat": 4
 },
 "nbformat": 4,
 "nbformat_minor": 2
}
